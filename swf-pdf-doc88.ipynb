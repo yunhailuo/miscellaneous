{
 "cells": [
  {
   "cell_type": "markdown",
   "metadata": {
    "collapsed": true
   },
   "source": [
    "# Extra steps for displaying pdf through swf on doc88\n",
    "**First thing first**, most of the underlying works were done by Winsen Jiansbomber (http://blog.csdn.net/WinsenJiansbomber/article/details/47065697?locationNum=1&fps=1). I just transformed part of his work into python. Honestly, my initial intention is to download one pdf from doc88 (which is clearly wrong). It turns out there are something interesting to learn.\n",
    "\n",
    "According to Jimbo's research, the mechanism turns out very simple. Each page in a pdf was splitted into two parts: a ph file and a pk file. The ph file is shared by all pages within the pdf (probably not shared between different pdfs), and the pk file is page specific. The two files are labelled as .ebt file and are zlib compressed. Therefore, to get a usable swf from the two ebt files, steps to take are 1. uncompressing both ebt; 2. concatenating ph and pk, as shown by the code below: "
   ]
  },
  {
   "cell_type": "code",
   "execution_count": null,
   "metadata": {
    "collapsed": true
   },
   "outputs": [],
   "source": [
    "import zlib\n",
    "import struct\n",
    "\n",
    "inphpath = 'ph.ebt'\n",
    "inpkpath = 'pk.ebt'\n",
    "outpath = 'out.swf'\n",
    "\n",
    "phbytearray = open(inphpath, 'rb').read()\n",
    "# ph has to be explicitely declared as mutable bytearray because it will be modified later for file length below.\n",
    "ph = bytearray(zlib.decompress(phbytearray[40:]))\n",
    "# This might not be necessary\n",
    "ph[4:8] = struct.pack('<I',len(ph))\n",
    "\n",
    "pkbytearray = open(inpkpath, 'rb').read()\n",
    "# ph has to be explicitely declared as mutable bytearray because it will be modified later for file length below.\n",
    "pk = bytearray(zlib.decompress(pkbytearray[32:]))\n",
    "\n",
    "out = ph + pk + bytearray([64]) + bytearray([0]) + bytearray([0]) + bytearray([0])\n",
    "out[4:8] = struct.pack('<I', len(out))\n",
    "\n",
    "open(outpath, 'wb').write(out)\n"
   ]
  },
  {
   "cell_type": "markdown",
   "metadata": {},
   "source": [
    "### 1 thing learned and 3 questions\n",
    "As shown by [swf file format specs](http://wwwimages.adobe.com/content/dam/Adobe/en/devnet/swf/pdf/swf-file-format-spec.pdf), swf header has 6 fields. Just to mention 2 here:  \n",
    "1. The first three bytes are swf signature. While the second and third are always WS, the first byte can indicates compression status (F: uncompressed; C: zlib compressed; Z: LZMA compressed). The signature bytes can be repurposed. For example, the ph file uses the signature bytes as \"YBD\".\n",
    "2. The fifth to the eighth bytes are for file length. It should be uncompressed or decompressed SWF file size.\n",
    "\n",
    "Questions (to be learned):\n",
    "1. Since file length field is going to be reset in the end, setting the file length field for ph seems to be unnecessary.\n",
    "2. What's the signature for zlib compressed file? How did Jimbo originally figure out ph and pk are zlib compressed? How to figure out that you will need to bypass 40 bytes for ph file and 32 bytes for pk file? There seems to be a rule because if it is not bypassed correctly (e.g. 41 or 39), decompress will fail.\n",
    "3. What is the 4 bytes ending for? How do you know you will need that?"
   ]
  }
 ],
 "metadata": {
  "kernelspec": {
   "display_name": "Python 3",
   "language": "python",
   "name": "python3"
  },
  "language_info": {
   "codemirror_mode": {
    "name": "ipython",
    "version": 3
   },
   "file_extension": ".py",
   "mimetype": "text/x-python",
   "name": "python",
   "nbconvert_exporter": "python",
   "pygments_lexer": "ipython3",
   "version": "3.5.2"
  }
 },
 "nbformat": 4,
 "nbformat_minor": 1
}
